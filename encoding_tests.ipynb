{
 "cells": [
  {
   "cell_type": "code",
   "execution_count": 1,
   "metadata": {},
   "outputs": [
    {
     "name": "stdout",
     "output_type": "stream",
     "text": [
      "[1.00000000e-01 1.58489319e+01 2.51188643e+03 3.98107171e+05\n",
      " 6.30957344e+07 1.00000000e+10]\n",
      "Speech shape is (6400, 25, 1) and EEG shape is (6400, 25, 32).\n"
     ]
    }
   ],
   "source": [
    "import os\n",
    "import numpy as np\n",
    "import matplotlib.pyplot as plt\n",
    "from NeuralEncoder import NeuralEncoder\n",
    "from helpers import subjects\n",
    "from encoding import generate_alphas\n",
    "\n",
    "# alphas = generate_alphas(5, 20, 2)\n",
    "alphas = np.logspace(-1, 10, 6)\n",
    "\n",
    "# Instantiate encoder\n",
    "encoder = NeuralEncoder('p01', method='cortical', alphas=alphas)\n",
    "print(alphas)\n",
    "print(f'Speech shape is {encoder.speech.shape} and EEG shape is {encoder.eeg.shape}.')"
   ]
  },
  {
   "cell_type": "code",
   "execution_count": 2,
   "metadata": {},
   "outputs": [
    {
     "name": "stderr",
     "output_type": "stream",
     "text": [
      "  0%|          | 0/10 [00:00<?, ?it/s]\n"
     ]
    },
    {
     "ename": "ValueError",
     "evalue": "array must not contain infs or NaNs",
     "output_type": "error",
     "traceback": [
      "\u001b[0;31m---------------------------------------------------------------------------\u001b[0m",
      "\u001b[0;31mValueError\u001b[0m                                Traceback (most recent call last)",
      "Cell \u001b[0;32mIn[2], line 1\u001b[0m\n\u001b[0;32m----> 1\u001b[0m kernels, scores, alpha_history, outer_alpha_history \u001b[39m=\u001b[39m encoder\u001b[39m.\u001b[39;49mfit()\n",
      "File \u001b[0;32m~/Projects/Midcortex/NeuralEncoder.py:107\u001b[0m, in \u001b[0;36mNeuralEncoder.fit\u001b[0;34m(self)\u001b[0m\n\u001b[1;32m     91\u001b[0m alpha_estimator \u001b[39m=\u001b[39m TimeDelayingRidge(\n\u001b[1;32m     92\u001b[0m     tmin\u001b[39m=\u001b[39m\u001b[39mself\u001b[39m\u001b[39m.\u001b[39mtrf_min,\n\u001b[1;32m     93\u001b[0m     tmax\u001b[39m=\u001b[39m\u001b[39mself\u001b[39m\u001b[39m.\u001b[39mtrf_max,\n\u001b[0;32m   (...)\u001b[0m\n\u001b[1;32m     96\u001b[0m     alpha\u001b[39m=\u001b[39malpha\n\u001b[1;32m     97\u001b[0m )\n\u001b[1;32m     99\u001b[0m alpha_model \u001b[39m=\u001b[39m ReceptiveField(\n\u001b[1;32m    100\u001b[0m     tmin\u001b[39m=\u001b[39m\u001b[39mself\u001b[39m\u001b[39m.\u001b[39mtrf_min,\n\u001b[1;32m    101\u001b[0m     tmax\u001b[39m=\u001b[39m\u001b[39mself\u001b[39m\u001b[39m.\u001b[39mtrf_max,\n\u001b[0;32m   (...)\u001b[0m\n\u001b[1;32m    104\u001b[0m     scoring\u001b[39m=\u001b[39m\u001b[39m'\u001b[39m\u001b[39mcorrcoef\u001b[39m\u001b[39m'\u001b[39m\n\u001b[1;32m    105\u001b[0m )\n\u001b[0;32m--> 107\u001b[0m alpha_model\u001b[39m.\u001b[39;49mfit(alpha_speech_train, alpha_eeg_train)\n\u001b[1;32m    109\u001b[0m \u001b[39m# Store score of current fold\u001b[39;00m\n\u001b[1;32m    110\u001b[0m inner_score \u001b[39m=\u001b[39m alpha_model\u001b[39m.\u001b[39mscore(alpha_speech_validation, alpha_eeg_validation)  \u001b[39m# (32,)\u001b[39;00m\n",
      "File \u001b[0;32m~/anaconda3/envs/neuro/lib/python3.10/site-packages/mne/decoding/receptive_field.py:223\u001b[0m, in \u001b[0;36mReceptiveField.fit\u001b[0;34m(self, X, y)\u001b[0m\n\u001b[1;32m    220\u001b[0m \u001b[39m# Create input features\u001b[39;00m\n\u001b[1;32m    221\u001b[0m X, y \u001b[39m=\u001b[39m \u001b[39mself\u001b[39m\u001b[39m.\u001b[39m_delay_and_reshape(X, y)\n\u001b[0;32m--> 223\u001b[0m \u001b[39mself\u001b[39;49m\u001b[39m.\u001b[39;49mestimator_\u001b[39m.\u001b[39;49mfit(X, y)\n\u001b[1;32m    224\u001b[0m coef \u001b[39m=\u001b[39m get_coef(\u001b[39mself\u001b[39m\u001b[39m.\u001b[39mestimator_, \u001b[39m'\u001b[39m\u001b[39mcoef_\u001b[39m\u001b[39m'\u001b[39m)  \u001b[39m# (n_targets, n_features)\u001b[39;00m\n\u001b[1;32m    225\u001b[0m shape \u001b[39m=\u001b[39m [n_feats, n_delays]\n",
      "File \u001b[0;32m~/anaconda3/envs/neuro/lib/python3.10/site-packages/mne/decoding/time_delaying_ridge.py:323\u001b[0m, in \u001b[0;36mTimeDelayingRidge.fit\u001b[0;34m(self, X, y)\u001b[0m\n\u001b[1;32m    317\u001b[0m \u001b[39m# These are split into two functions because it's possible that we\u001b[39;00m\n\u001b[1;32m    318\u001b[0m \u001b[39m# might want to allow people to do them separately (e.g., to test\u001b[39;00m\n\u001b[1;32m    319\u001b[0m \u001b[39m# different regularization parameters).\u001b[39;00m\n\u001b[1;32m    320\u001b[0m \u001b[39mself\u001b[39m\u001b[39m.\u001b[39mcov_, x_y_, n_ch_x, X_offset, y_offset \u001b[39m=\u001b[39m _compute_corrs(\n\u001b[1;32m    321\u001b[0m     X, y, \u001b[39mself\u001b[39m\u001b[39m.\u001b[39m_smin, \u001b[39mself\u001b[39m\u001b[39m.\u001b[39m_smax, \u001b[39mself\u001b[39m\u001b[39m.\u001b[39mn_jobs, \u001b[39mself\u001b[39m\u001b[39m.\u001b[39mfit_intercept,\n\u001b[1;32m    322\u001b[0m     \u001b[39mself\u001b[39m\u001b[39m.\u001b[39medge_correction)\n\u001b[0;32m--> 323\u001b[0m \u001b[39mself\u001b[39m\u001b[39m.\u001b[39mcoef_ \u001b[39m=\u001b[39m _fit_corrs(\u001b[39mself\u001b[39;49m\u001b[39m.\u001b[39;49mcov_, x_y_, n_ch_x,\n\u001b[1;32m    324\u001b[0m                         \u001b[39mself\u001b[39;49m\u001b[39m.\u001b[39;49mreg_type, \u001b[39mself\u001b[39;49m\u001b[39m.\u001b[39;49malpha, n_ch_x)\n\u001b[1;32m    325\u001b[0m \u001b[39m# This is the sklearn formula from LinearModel (will be 0. for no fit)\u001b[39;00m\n\u001b[1;32m    326\u001b[0m \u001b[39mif\u001b[39;00m \u001b[39mself\u001b[39m\u001b[39m.\u001b[39mfit_intercept:\n",
      "File \u001b[0;32m~/anaconda3/envs/neuro/lib/python3.10/site-packages/mne/decoding/time_delaying_ridge.py:215\u001b[0m, in \u001b[0;36m_fit_corrs\u001b[0;34m(x_xt, x_y, n_ch_x, reg_type, alpha, n_ch_in)\u001b[0m\n\u001b[1;32m    210\u001b[0m \u001b[39m# From sklearn\u001b[39;00m\n\u001b[1;32m    211\u001b[0m \u001b[39mtry\u001b[39;00m:\n\u001b[1;32m    212\u001b[0m     \u001b[39m# Note: we must use overwrite_a=False in order to be able to\u001b[39;00m\n\u001b[1;32m    213\u001b[0m     \u001b[39m#       use the fall-back solution below in case a LinAlgError\u001b[39;00m\n\u001b[1;32m    214\u001b[0m     \u001b[39m#       is raised\u001b[39;00m\n\u001b[0;32m--> 215\u001b[0m     w \u001b[39m=\u001b[39m linalg\u001b[39m.\u001b[39;49msolve(mat, x_y, overwrite_a\u001b[39m=\u001b[39;49m\u001b[39mFalse\u001b[39;49;00m, assume_a\u001b[39m=\u001b[39;49m\u001b[39m'\u001b[39;49m\u001b[39mpos\u001b[39;49m\u001b[39m'\u001b[39;49m)\n\u001b[1;32m    216\u001b[0m \u001b[39mexcept\u001b[39;00m np\u001b[39m.\u001b[39mlinalg\u001b[39m.\u001b[39mLinAlgError:\n\u001b[1;32m    217\u001b[0m     warn(\u001b[39m'\u001b[39m\u001b[39mSingular matrix in solving dual problem. Using \u001b[39m\u001b[39m'\u001b[39m\n\u001b[1;32m    218\u001b[0m          \u001b[39m'\u001b[39m\u001b[39mleast-squares solution instead.\u001b[39m\u001b[39m'\u001b[39m)\n",
      "File \u001b[0;32m~/anaconda3/envs/neuro/lib/python3.10/site-packages/scipy/linalg/_basic.py:143\u001b[0m, in \u001b[0;36msolve\u001b[0;34m(a, b, sym_pos, lower, overwrite_a, overwrite_b, check_finite, assume_a, transposed)\u001b[0m\n\u001b[1;32m    140\u001b[0m \u001b[39m# Flags for 1-D or N-D right-hand side\u001b[39;00m\n\u001b[1;32m    141\u001b[0m b_is_1D \u001b[39m=\u001b[39m \u001b[39mFalse\u001b[39;00m\n\u001b[0;32m--> 143\u001b[0m a1 \u001b[39m=\u001b[39m atleast_2d(_asarray_validated(a, check_finite\u001b[39m=\u001b[39;49mcheck_finite))\n\u001b[1;32m    144\u001b[0m b1 \u001b[39m=\u001b[39m atleast_1d(_asarray_validated(b, check_finite\u001b[39m=\u001b[39mcheck_finite))\n\u001b[1;32m    145\u001b[0m n \u001b[39m=\u001b[39m a1\u001b[39m.\u001b[39mshape[\u001b[39m0\u001b[39m]\n",
      "File \u001b[0;32m~/anaconda3/envs/neuro/lib/python3.10/site-packages/scipy/_lib/_util.py:252\u001b[0m, in \u001b[0;36m_asarray_validated\u001b[0;34m(a, check_finite, sparse_ok, objects_ok, mask_ok, as_inexact)\u001b[0m\n\u001b[1;32m    250\u001b[0m         \u001b[39mraise\u001b[39;00m \u001b[39mValueError\u001b[39;00m(\u001b[39m'\u001b[39m\u001b[39mmasked arrays are not supported\u001b[39m\u001b[39m'\u001b[39m)\n\u001b[1;32m    251\u001b[0m toarray \u001b[39m=\u001b[39m np\u001b[39m.\u001b[39masarray_chkfinite \u001b[39mif\u001b[39;00m check_finite \u001b[39melse\u001b[39;00m np\u001b[39m.\u001b[39masarray\n\u001b[0;32m--> 252\u001b[0m a \u001b[39m=\u001b[39m toarray(a)\n\u001b[1;32m    253\u001b[0m \u001b[39mif\u001b[39;00m \u001b[39mnot\u001b[39;00m objects_ok:\n\u001b[1;32m    254\u001b[0m     \u001b[39mif\u001b[39;00m a\u001b[39m.\u001b[39mdtype \u001b[39mis\u001b[39;00m np\u001b[39m.\u001b[39mdtype(\u001b[39m'\u001b[39m\u001b[39mO\u001b[39m\u001b[39m'\u001b[39m):\n",
      "File \u001b[0;32m~/anaconda3/envs/neuro/lib/python3.10/site-packages/numpy/lib/function_base.py:627\u001b[0m, in \u001b[0;36masarray_chkfinite\u001b[0;34m(a, dtype, order)\u001b[0m\n\u001b[1;32m    625\u001b[0m a \u001b[39m=\u001b[39m asarray(a, dtype\u001b[39m=\u001b[39mdtype, order\u001b[39m=\u001b[39morder)\n\u001b[1;32m    626\u001b[0m \u001b[39mif\u001b[39;00m a\u001b[39m.\u001b[39mdtype\u001b[39m.\u001b[39mchar \u001b[39min\u001b[39;00m typecodes[\u001b[39m'\u001b[39m\u001b[39mAllFloat\u001b[39m\u001b[39m'\u001b[39m] \u001b[39mand\u001b[39;00m \u001b[39mnot\u001b[39;00m np\u001b[39m.\u001b[39misfinite(a)\u001b[39m.\u001b[39mall():\n\u001b[0;32m--> 627\u001b[0m     \u001b[39mraise\u001b[39;00m \u001b[39mValueError\u001b[39;00m(\n\u001b[1;32m    628\u001b[0m         \u001b[39m\"\u001b[39m\u001b[39marray must not contain infs or NaNs\u001b[39m\u001b[39m\"\u001b[39m)\n\u001b[1;32m    629\u001b[0m \u001b[39mreturn\u001b[39;00m a\n",
      "\u001b[0;31mValueError\u001b[0m: array must not contain infs or NaNs"
     ]
    }
   ],
   "source": [
    "kernels, scores, alpha_history, outer_alpha_history = encoder.fit()"
   ]
  },
  {
   "cell_type": "code",
   "execution_count": null,
   "metadata": {},
   "outputs": [],
   "source": [
    "mean_kernel = kernels.mean(axis=0)\n",
    "times = np.linspace(-5, 15, mean_kernel.shape[1])\n",
    "# times = np.linspace(-200, 500, mean_kernel.shape[1])\n",
    "\n",
    "fig, ax = plt.subplots(1, 2, figsize=(10, 4))\n",
    "\n",
    "ax[0].plot(times, kernels[:, -1, :].T);\n",
    "# ax[0].set_ylim([-0.02, 0.02])\n",
    "ax[1].plot(times, mean_kernel[-1, :].T);\n",
    "# ax[1].set_ylim([-0.02, 0.02])"
   ]
  },
  {
   "cell_type": "code",
   "execution_count": null,
   "metadata": {},
   "outputs": [],
   "source": [
    "outer_alpha_history"
   ]
  }
 ],
 "metadata": {
  "kernelspec": {
   "display_name": "neuro",
   "language": "python",
   "name": "neuro"
  },
  "language_info": {
   "codemirror_mode": {
    "name": "ipython",
    "version": 3
   },
   "file_extension": ".py",
   "mimetype": "text/x-python",
   "name": "python",
   "nbconvert_exporter": "python",
   "pygments_lexer": "ipython3",
   "version": "3.10.9"
  },
  "orig_nbformat": 4
 },
 "nbformat": 4,
 "nbformat_minor": 2
}
